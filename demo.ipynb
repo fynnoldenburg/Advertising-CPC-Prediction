{
 "cells": [
  {
   "cell_type": "markdown",
   "id": "9dda8d72-67e7-4d53-8b6f-e84fbc995787",
   "metadata": {},
   "source": [
    "# Forecasting Cost-Per-Click Using Explainable Deep Learning:\n",
    "## Multivariate Modelling of the Competitive Online Bidding Landscape and Budgeting Strategies\n",
    "\n",
    "Fynn Oldenburg, Qiwei Han and Maximilian Kaiser"
   ]
  },
  {
   "cell_type": "markdown",
   "id": "a34739b6-076d-4157-b822-8c43f43ee011",
   "metadata": {},
   "source": [
    "-------------\n",
    "\n",
    "This folder contains the implementation of our proposed modelling procedure for Google cost-per-click prediction (CPC) together with a small anonymized subsample of the data used in our study. The demo notebook is intended as a transparent walkthrough showing how each individual module works. The code can also be run as a whole from terminal by calling main.py.\n",
    "\n",
    "-------------"
   ]
  },
  {
   "cell_type": "code",
   "execution_count": 1,
   "id": "765279de-0d5b-43a8-9eb3-ff65d4524a94",
   "metadata": {},
   "outputs": [],
   "source": [
    "import pandas as pd\n",
    "import matplotlib.pyplot as plt"
   ]
  },
  {
   "cell_type": "markdown",
   "id": "845279e3-dc25-4e78-8609-3d5876be8216",
   "metadata": {
    "tags": []
   },
   "source": [
    "# 1 Input data file\n",
    "The input data needs to be in the exact same format as the demo_data.csv used here and stored in the /data directory. No missing data or missing time steps are allowed so all preprocessing needs to be done beforehand."
   ]
  },
  {
   "cell_type": "code",
   "execution_count": 2,
   "id": "26a5b1e5-5bb4-4fc0-a6aa-7d8082faf313",
   "metadata": {},
   "outputs": [
    {
     "data": {
      "text/html": [
       "<div>\n",
       "<style scoped>\n",
       "    .dataframe tbody tr th:only-of-type {\n",
       "        vertical-align: middle;\n",
       "    }\n",
       "\n",
       "    .dataframe tbody tr th {\n",
       "        vertical-align: top;\n",
       "    }\n",
       "\n",
       "    .dataframe thead th {\n",
       "        text-align: right;\n",
       "    }\n",
       "</style>\n",
       "<table border=\"1\" class=\"dataframe\">\n",
       "  <thead>\n",
       "    <tr style=\"text-align: right;\">\n",
       "      <th></th>\n",
       "      <th>adwordscustomerid</th>\n",
       "      <th>category</th>\n",
       "      <th>adcost</th>\n",
       "      <th>adclicks</th>\n",
       "      <th>impressions</th>\n",
       "      <th>cpc</th>\n",
       "      <th>adbudget</th>\n",
       "      <th>time_idx</th>\n",
       "      <th>date</th>\n",
       "      <th>month</th>\n",
       "      <th>dayofweek</th>\n",
       "      <th>dayofyear</th>\n",
       "    </tr>\n",
       "  </thead>\n",
       "  <tbody>\n",
       "    <tr>\n",
       "      <th>0</th>\n",
       "      <td>id_0001</td>\n",
       "      <td>Computers_Electronics_and_Technology</td>\n",
       "      <td>16.143085</td>\n",
       "      <td>15</td>\n",
       "      <td>149</td>\n",
       "      <td>1.076206</td>\n",
       "      <td>64.511115</td>\n",
       "      <td>0</td>\n",
       "      <td>2019-01-01</td>\n",
       "      <td>1</td>\n",
       "      <td>1</td>\n",
       "      <td>1</td>\n",
       "    </tr>\n",
       "    <tr>\n",
       "      <th>1</th>\n",
       "      <td>id_0001</td>\n",
       "      <td>Computers_Electronics_and_Technology</td>\n",
       "      <td>38.065914</td>\n",
       "      <td>29</td>\n",
       "      <td>467</td>\n",
       "      <td>1.312618</td>\n",
       "      <td>64.511115</td>\n",
       "      <td>1</td>\n",
       "      <td>2019-01-02</td>\n",
       "      <td>1</td>\n",
       "      <td>2</td>\n",
       "      <td>2</td>\n",
       "    </tr>\n",
       "    <tr>\n",
       "      <th>2</th>\n",
       "      <td>id_0001</td>\n",
       "      <td>Computers_Electronics_and_Technology</td>\n",
       "      <td>69.290270</td>\n",
       "      <td>57</td>\n",
       "      <td>469</td>\n",
       "      <td>1.215619</td>\n",
       "      <td>64.511115</td>\n",
       "      <td>2</td>\n",
       "      <td>2019-01-03</td>\n",
       "      <td>1</td>\n",
       "      <td>3</td>\n",
       "      <td>3</td>\n",
       "    </tr>\n",
       "    <tr>\n",
       "      <th>3</th>\n",
       "      <td>id_0001</td>\n",
       "      <td>Computers_Electronics_and_Technology</td>\n",
       "      <td>26.558758</td>\n",
       "      <td>28</td>\n",
       "      <td>389</td>\n",
       "      <td>0.948527</td>\n",
       "      <td>64.511115</td>\n",
       "      <td>3</td>\n",
       "      <td>2019-01-04</td>\n",
       "      <td>1</td>\n",
       "      <td>4</td>\n",
       "      <td>4</td>\n",
       "    </tr>\n",
       "    <tr>\n",
       "      <th>4</th>\n",
       "      <td>id_0001</td>\n",
       "      <td>Computers_Electronics_and_Technology</td>\n",
       "      <td>22.276663</td>\n",
       "      <td>20</td>\n",
       "      <td>179</td>\n",
       "      <td>1.113833</td>\n",
       "      <td>64.511115</td>\n",
       "      <td>4</td>\n",
       "      <td>2019-01-05</td>\n",
       "      <td>1</td>\n",
       "      <td>5</td>\n",
       "      <td>5</td>\n",
       "    </tr>\n",
       "  </tbody>\n",
       "</table>\n",
       "</div>"
      ],
      "text/plain": [
       "  adwordscustomerid                              category     adcost  \\\n",
       "0           id_0001  Computers_Electronics_and_Technology  16.143085   \n",
       "1           id_0001  Computers_Electronics_and_Technology  38.065914   \n",
       "2           id_0001  Computers_Electronics_and_Technology  69.290270   \n",
       "3           id_0001  Computers_Electronics_and_Technology  26.558758   \n",
       "4           id_0001  Computers_Electronics_and_Technology  22.276663   \n",
       "\n",
       "   adclicks  impressions       cpc   adbudget  time_idx        date  month  \\\n",
       "0        15          149  1.076206  64.511115         0  2019-01-01      1   \n",
       "1        29          467  1.312618  64.511115         1  2019-01-02      1   \n",
       "2        57          469  1.215619  64.511115         2  2019-01-03      1   \n",
       "3        28          389  0.948527  64.511115         3  2019-01-04      1   \n",
       "4        20          179  1.113833  64.511115         4  2019-01-05      1   \n",
       "\n",
       "   dayofweek  dayofyear  \n",
       "0          1          1  \n",
       "1          2          2  \n",
       "2          3          3  \n",
       "3          4          4  \n",
       "4          5          5  "
      ]
     },
     "execution_count": 2,
     "metadata": {},
     "output_type": "execute_result"
    }
   ],
   "source": [
    "pd.read_csv('data/demo_data.csv').head(5)"
   ]
  },
  {
   "cell_type": "markdown",
   "id": "33e4b571-6211-4697-85ff-c0389f2c4b2d",
   "metadata": {},
   "source": [
    "# 2 Model configuration\n",
    "User input parameters for model training (need to be defined in the main.py as well)"
   ]
  },
  {
   "cell_type": "code",
   "execution_count": 3,
   "id": "3ae82df2-1ca8-4e18-b0f2-95dfca9ca880",
   "metadata": {},
   "outputs": [],
   "source": [
    "CONFIG = {\n",
    "    'data_path': 'data/demo_data.csv',         # data file path\n",
    "    'target_advertiser_id': ['id_0001'],       # advertiser to predict (multiple possible)\n",
    "    'max_horizon': 60,                         # longest horizon to predict (max look forward)\n",
    "    'min_horizon': 14,                         # shortest horizon to predict (min look forward)\n",
    "    'encoder_length': 90,                      # encoder window length (look back)\n",
    "    'holdout_split_idx': 1000,                 # time index to split holdout data\n",
    "    'include_competition': True,               # set False to benchmark against model without competition\n",
    "    'model_path': 'trained_models/',           # directory to save trained model\n",
    "    'cluster_path': 'cluster_results/',        # directory to save trained model\n",
    "    'name_prefix': 'demo'                      # prefix to add to cluster result and model \n",
    "}                                                # (model name will also append advertiser id)"
   ]
  },
  {
   "cell_type": "markdown",
   "id": "323946c9-9566-4b41-85c8-1e3a29b2af83",
   "metadata": {},
   "source": [
    "A quick overview of the selected primary advertiser CPC development"
   ]
  },
  {
   "cell_type": "code",
   "execution_count": 4,
   "id": "ca0508ef-438e-42ea-81c1-034aa70883fd",
   "metadata": {},
   "outputs": [
    {
     "data": {
      "image/png": "[encoded data removed]",
      "text/plain": [
       "<Figure size 1080x180 with 1 Axes>"
      ]
     },
     "metadata": {
      "needs_background": "light"
     },
     "output_type": "display_data"
    }
   ],
   "source": [
    "plot_df = pd.read_csv('data/demo_data.csv')\n",
    "adv_plot_df = plot_df[plot_df.adwordscustomerid == CONFIG['target_advertiser_id'][0]]\n",
    "plt.figure(figsize=(15,2.5))\n",
    "plt.plot(adv_plot_df.time_idx, adv_plot_df.cpc, c='black', lw=1)\n",
    "plt.show()"
   ]
  },
  {
   "cell_type": "markdown",
   "id": "a2b15f6c-ee4b-4c19-bf21-f7365f1b0987",
   "metadata": {},
   "source": [
    "# 3 Time series clustering\n",
    "We conduct distance-based time series clustering to identify groups of advertisers with similar CPC development to use them as covariates for predicting each others future CPC. If a clustering with the same prefix already exists in the /cluster_results directory, no new clustering is generated but the existing one is loaded."
   ]
  },
  {
   "cell_type": "code",
   "execution_count": 5,
   "id": "f3847ac0-bdae-4018-9c66-14b34e010f1a",
   "metadata": {},
   "outputs": [
    {
     "name": "stdout",
     "output_type": "stream",
     "text": [
      "... load existing cluster assignment\n"
     ]
    },
    {
     "data": {
      "text/plain": [
       "adwordscustomerid\n",
       "id_0001    6\n",
       "id_0002    6\n",
       "id_0003    6\n",
       "id_0004    6\n",
       "id_0005    6\n",
       "Name: clust, dtype: int64"
      ]
     },
     "execution_count": 5,
     "metadata": {},
     "output_type": "execute_result"
    }
   ],
   "source": [
    "import clustering\n",
    "\n",
    "clusterer = clustering.distanceClustering(CONFIG)\n",
    "clust_assignment = clusterer.dtw_kmeans(k_min=7, k_max=7, k_step=1)\n",
    "\n",
    "clust_assignment.head(5)"
   ]
  },
  {
   "cell_type": "markdown",
   "id": "9d676f9d-218f-4f2c-9e49-eab2cef542f9",
   "metadata": {},
   "source": [
    "# 4 Data formatting\n",
    "PyTorch training and validation data sets as well as dataloaders are generated. The output variables are lists containing one element per target advertiser defined in CONFIG."
   ]
  },
  {
   "cell_type": "code",
   "execution_count": 6,
   "id": "941cfd4c-f787-4388-af93-e18acb291688",
   "metadata": {},
   "outputs": [
    {
     "data": {
      "text/html": [
       "<div>\n",
       "<style scoped>\n",
       "    .dataframe tbody tr th:only-of-type {\n",
       "        vertical-align: middle;\n",
       "    }\n",
       "\n",
       "    .dataframe tbody tr th {\n",
       "        vertical-align: top;\n",
       "    }\n",
       "\n",
       "    .dataframe thead th {\n",
       "        text-align: right;\n",
       "    }\n",
       "</style>\n",
       "<table border=\"1\" class=\"dataframe\">\n",
       "  <thead>\n",
       "    <tr style=\"text-align: right;\">\n",
       "      <th></th>\n",
       "      <th>adwordscustomerid</th>\n",
       "      <th>category</th>\n",
       "      <th>adcost</th>\n",
       "      <th>adclicks</th>\n",
       "      <th>impressions</th>\n",
       "      <th>cpc</th>\n",
       "      <th>adbudget</th>\n",
       "      <th>time_idx</th>\n",
       "      <th>date</th>\n",
       "      <th>month</th>\n",
       "      <th>...</th>\n",
       "      <th>cpc_id_0002</th>\n",
       "      <th>cpc_id_0003</th>\n",
       "      <th>cpc_id_0004</th>\n",
       "      <th>cpc_id_0005</th>\n",
       "      <th>cpc_id_0006</th>\n",
       "      <th>cpc_id_0007</th>\n",
       "      <th>cpc_id_0008</th>\n",
       "      <th>cpc_id_0009</th>\n",
       "      <th>cpc_id_0010</th>\n",
       "      <th>cpc_id_0011</th>\n",
       "    </tr>\n",
       "  </thead>\n",
       "  <tbody>\n",
       "    <tr>\n",
       "      <th>0</th>\n",
       "      <td>id_0001</td>\n",
       "      <td>Computers_Electronics_and_Technology</td>\n",
       "      <td>16.143085</td>\n",
       "      <td>15</td>\n",
       "      <td>149</td>\n",
       "      <td>1.076206</td>\n",
       "      <td>64.511115</td>\n",
       "      <td>0</td>\n",
       "      <td>2019-01-01</td>\n",
       "      <td>1</td>\n",
       "      <td>...</td>\n",
       "      <td>1.705929</td>\n",
       "      <td>1.941671</td>\n",
       "      <td>2.399189</td>\n",
       "      <td>1.634446</td>\n",
       "      <td>6.293911</td>\n",
       "      <td>2.335637</td>\n",
       "      <td>3.299349</td>\n",
       "      <td>0.600723</td>\n",
       "      <td>0.000000</td>\n",
       "      <td>0.885118</td>\n",
       "    </tr>\n",
       "    <tr>\n",
       "      <th>1</th>\n",
       "      <td>id_0001</td>\n",
       "      <td>Computers_Electronics_and_Technology</td>\n",
       "      <td>38.065914</td>\n",
       "      <td>29</td>\n",
       "      <td>467</td>\n",
       "      <td>1.312618</td>\n",
       "      <td>64.511115</td>\n",
       "      <td>1</td>\n",
       "      <td>2019-01-02</td>\n",
       "      <td>1</td>\n",
       "      <td>...</td>\n",
       "      <td>2.279701</td>\n",
       "      <td>1.978007</td>\n",
       "      <td>2.092318</td>\n",
       "      <td>1.460333</td>\n",
       "      <td>4.713427</td>\n",
       "      <td>2.491293</td>\n",
       "      <td>2.245534</td>\n",
       "      <td>0.606821</td>\n",
       "      <td>3.477387</td>\n",
       "      <td>1.668757</td>\n",
       "    </tr>\n",
       "    <tr>\n",
       "      <th>2</th>\n",
       "      <td>id_0001</td>\n",
       "      <td>Computers_Electronics_and_Technology</td>\n",
       "      <td>69.290270</td>\n",
       "      <td>57</td>\n",
       "      <td>469</td>\n",
       "      <td>1.215619</td>\n",
       "      <td>64.511115</td>\n",
       "      <td>2</td>\n",
       "      <td>2019-01-03</td>\n",
       "      <td>1</td>\n",
       "      <td>...</td>\n",
       "      <td>1.593603</td>\n",
       "      <td>1.880460</td>\n",
       "      <td>2.142634</td>\n",
       "      <td>1.291313</td>\n",
       "      <td>5.029877</td>\n",
       "      <td>2.521067</td>\n",
       "      <td>2.889605</td>\n",
       "      <td>0.657974</td>\n",
       "      <td>4.300381</td>\n",
       "      <td>0.946883</td>\n",
       "    </tr>\n",
       "    <tr>\n",
       "      <th>3</th>\n",
       "      <td>id_0001</td>\n",
       "      <td>Computers_Electronics_and_Technology</td>\n",
       "      <td>26.558758</td>\n",
       "      <td>28</td>\n",
       "      <td>389</td>\n",
       "      <td>0.948527</td>\n",
       "      <td>64.511115</td>\n",
       "      <td>3</td>\n",
       "      <td>2019-01-04</td>\n",
       "      <td>1</td>\n",
       "      <td>...</td>\n",
       "      <td>2.635196</td>\n",
       "      <td>2.048986</td>\n",
       "      <td>2.840680</td>\n",
       "      <td>1.188559</td>\n",
       "      <td>4.928412</td>\n",
       "      <td>2.239193</td>\n",
       "      <td>2.305173</td>\n",
       "      <td>0.547456</td>\n",
       "      <td>8.240421</td>\n",
       "      <td>0.817443</td>\n",
       "    </tr>\n",
       "    <tr>\n",
       "      <th>4</th>\n",
       "      <td>id_0001</td>\n",
       "      <td>Computers_Electronics_and_Technology</td>\n",
       "      <td>22.276663</td>\n",
       "      <td>20</td>\n",
       "      <td>179</td>\n",
       "      <td>1.113833</td>\n",
       "      <td>64.511115</td>\n",
       "      <td>4</td>\n",
       "      <td>2019-01-05</td>\n",
       "      <td>1</td>\n",
       "      <td>...</td>\n",
       "      <td>2.899471</td>\n",
       "      <td>1.808209</td>\n",
       "      <td>1.821338</td>\n",
       "      <td>1.222854</td>\n",
       "      <td>4.762749</td>\n",
       "      <td>2.635530</td>\n",
       "      <td>3.674025</td>\n",
       "      <td>0.344047</td>\n",
       "      <td>2.306396</td>\n",
       "      <td>0.618821</td>\n",
       "    </tr>\n",
       "  </tbody>\n",
       "</table>\n",
       "<p>5 rows × 22 columns</p>\n",
       "</div>"
      ],
      "text/plain": [
       "  adwordscustomerid                              category     adcost  \\\n",
       "0           id_0001  Computers_Electronics_and_Technology  16.143085   \n",
       "1           id_0001  Computers_Electronics_and_Technology  38.065914   \n",
       "2           id_0001  Computers_Electronics_and_Technology  69.290270   \n",
       "3           id_0001  Computers_Electronics_and_Technology  26.558758   \n",
       "4           id_0001  Computers_Electronics_and_Technology  22.276663   \n",
       "\n",
       "   adclicks  impressions       cpc   adbudget  time_idx        date  month  \\\n",
       "0        15          149  1.076206  64.511115         0  2019-01-01      1   \n",
       "1        29          467  1.312618  64.511115         1  2019-01-02      1   \n",
       "2        57          469  1.215619  64.511115         2  2019-01-03      1   \n",
       "3        28          389  0.948527  64.511115         3  2019-01-04      1   \n",
       "4        20          179  1.113833  64.511115         4  2019-01-05      1   \n",
       "\n",
       "   ...  cpc_id_0002  cpc_id_0003  cpc_id_0004  cpc_id_0005  cpc_id_0006  \\\n",
       "0  ...     1.705929     1.941671     2.399189     1.634446     6.293911   \n",
       "1  ...     2.279701     1.978007     2.092318     1.460333     4.713427   \n",
       "2  ...     1.593603     1.880460     2.142634     1.291313     5.029877   \n",
       "3  ...     2.635196     2.048986     2.840680     1.188559     4.928412   \n",
       "4  ...     2.899471     1.808209     1.821338     1.222854     4.762749   \n",
       "\n",
       "   cpc_id_0007  cpc_id_0008  cpc_id_0009  cpc_id_0010  cpc_id_0011  \n",
       "0     2.335637     3.299349     0.600723     0.000000     0.885118  \n",
       "1     2.491293     2.245534     0.606821     3.477387     1.668757  \n",
       "2     2.521067     2.889605     0.657974     4.300381     0.946883  \n",
       "3     2.239193     2.305173     0.547456     8.240421     0.817443  \n",
       "4     2.635530     3.674025     0.344047     2.306396     0.618821  \n",
       "\n",
       "[5 rows x 22 columns]"
      ]
     },
     "execution_count": 6,
     "metadata": {},
     "output_type": "execute_result"
    }
   ],
   "source": [
    "import formatting\n",
    "\n",
    "formatter = formatting.dataFormatter(CONFIG, clustering=clust_assignment)\n",
    "adv_data, adv_holdout = formatter.get_adv_datasets()\n",
    "\n",
    "adv_data[0].head(5)"
   ]
  },
  {
   "cell_type": "code",
   "execution_count": 7,
   "id": "80542c12-8780-4bfd-8c39-144ab8994a02",
   "metadata": {},
   "outputs": [],
   "source": [
    "train_pydata, valid_pydata = formatter.get_py_datasets(adv_data)\n",
    "train_pyloader, valid_pyloader = formatter.get_py_dataloaders(train_pydata, valid_pydata)"
   ]
  },
  {
   "cell_type": "markdown",
   "id": "0d0e022d-20dc-4ec1-acd4-d298e5694a67",
   "metadata": {},
   "source": [
    "# 5 Model Training\n",
    "Training of the Temporal Fusion Transformer. Hyperparameter configuration can be adapted in the /training/tft module. A separate model is trained for every target advertiser defined in the CONFIG. If a model with the same prefix already exists in the /trained_models directory, no new model is generated but the existing one is loaded. The ouput is a list of models."
   ]
  },
  {
   "cell_type": "code",
   "execution_count": 8,
   "id": "155912f7-94f8-430c-9dfb-ab31f1906d2f",
   "metadata": {},
   "outputs": [
    {
     "name": "stderr",
     "output_type": "stream",
     "text": [
      "GPU available: True, used: True\n",
      "TPU available: False, using: 0 TPU cores\n",
      "IPU available: False, using: 0 IPUs\n",
      "HPU available: False, using: 0 HPUs\n"
     ]
    },
    {
     "name": "stdout",
     "output_type": "stream",
     "text": [
      "Train model: demo_tft_id_0001\n"
     ]
    },
    {
     "name": "stderr",
     "output_type": "stream",
     "text": [
      "LOCAL_RANK: 0 - CUDA_VISIBLE_DEVICES: [0]\n",
      "\n",
      "   | Name                               | Type                            | Params\n",
      "----------------------------------------------------------------------------------------\n",
      "0  | loss                               | QuantileLoss                    | 0     \n",
      "1  | logging_metrics                    | ModuleList                      | 0     \n",
      "2  | input_embeddings                   | MultiEmbedding                  | 2     \n",
      "3  | prescalers                         | ModuleDict                      | 360   \n",
      "4  | static_variable_selection          | VariableSelectionNetwork        | 100   \n",
      "5  | encoder_variable_selection         | VariableSelectionNetwork        | 13.1 K\n",
      "6  | decoder_variable_selection         | VariableSelectionNetwork        | 2.9 K \n",
      "7  | static_context_variable_selection  | GatedResidualNetwork            | 648   \n",
      "8  | static_context_initial_hidden_lstm | GatedResidualNetwork            | 648   \n",
      "9  | static_context_initial_cell_lstm   | GatedResidualNetwork            | 648   \n",
      "10 | static_context_enrichment          | GatedResidualNetwork            | 648   \n",
      "11 | lstm_encoder                       | LSTM                            | 1.2 K \n",
      "12 | lstm_decoder                       | LSTM                            | 1.2 K \n",
      "13 | post_lstm_gate_encoder             | GatedLinearUnit                 | 312   \n",
      "14 | post_lstm_add_norm_encoder         | AddNorm                         | 24    \n",
      "15 | static_enrichment                  | GatedResidualNetwork            | 792   \n",
      "16 | multihead_attn                     | InterpretableMultiHeadAttention | 387   \n",
      "17 | post_attn_gate_norm                | GateAddNorm                     | 336   \n",
      "18 | pos_wise_ff                        | GatedResidualNetwork            | 648   \n",
      "19 | pre_output_gate_norm               | GateAddNorm                     | 336   \n",
      "20 | output_layer                       | Linear                          | 91    \n",
      "----------------------------------------------------------------------------------------\n",
      "24.0 K    Trainable params\n",
      "0         Non-trainable params\n",
      "24.0 K    Total params\n",
      "0.096     Total estimated model params size (MB)\n"
     ]
    },
    {
     "data": {
      "application/vnd.jupyter.widget-view+json": {
       "model_id": "",
       "version_major": 2,
       "version_minor": 0
      },
      "text/plain": [
       "Sanity Checking: 0it [00:00, ?it/s]"
      ]
     },
     "metadata": {},
     "output_type": "display_data"
    },
    {
     "data": {
      "application/vnd.jupyter.widget-view+json": {
       "model_id": "86938bdcd40345238895abe531a4e589",
       "version_major": 2,
       "version_minor": 0
      },
      "text/plain": [
       "Training: 0it [00:00, ?it/s]"
      ]
     },
     "metadata": {},
     "output_type": "display_data"
    },
    {
     "data": {
      "application/vnd.jupyter.widget-view+json": {
       "model_id": "",
       "version_major": 2,
       "version_minor": 0
      },
      "text/plain": [
       "Validation: 0it [00:00, ?it/s]"
      ]
     },
     "metadata": {},
     "output_type": "display_data"
    },
    {
     "data": {
      "application/vnd.jupyter.widget-view+json": {
       "model_id": "",
       "version_major": 2,
       "version_minor": 0
      },
      "text/plain": [
       "Validation: 0it [00:00, ?it/s]"
      ]
     },
     "metadata": {},
     "output_type": "display_data"
    },
    {
     "data": {
      "application/vnd.jupyter.widget-view+json": {
       "model_id": "",
       "version_major": 2,
       "version_minor": 0
      },
      "text/plain": [
       "Validation: 0it [00:00, ?it/s]"
      ]
     },
     "metadata": {},
     "output_type": "display_data"
    },
    {
     "data": {
      "application/vnd.jupyter.widget-view+json": {
       "model_id": "",
       "version_major": 2,
       "version_minor": 0
      },
      "text/plain": [
       "Validation: 0it [00:00, ?it/s]"
      ]
     },
     "metadata": {},
     "output_type": "display_data"
    },
    {
     "data": {
      "application/vnd.jupyter.widget-view+json": {
       "model_id": "",
       "version_major": 2,
       "version_minor": 0
      },
      "text/plain": [
       "Validation: 0it [00:00, ?it/s]"
      ]
     },
     "metadata": {},
     "output_type": "display_data"
    },
    {
     "data": {
      "application/vnd.jupyter.widget-view+json": {
       "model_id": "",
       "version_major": 2,
       "version_minor": 0
      },
      "text/plain": [
       "Validation: 0it [00:00, ?it/s]"
      ]
     },
     "metadata": {},
     "output_type": "display_data"
    },
    {
     "data": {
      "application/vnd.jupyter.widget-view+json": {
       "model_id": "",
       "version_major": 2,
       "version_minor": 0
      },
      "text/plain": [
       "Validation: 0it [00:00, ?it/s]"
      ]
     },
     "metadata": {},
     "output_type": "display_data"
    },
    {
     "data": {
      "application/vnd.jupyter.widget-view+json": {
       "model_id": "",
       "version_major": 2,
       "version_minor": 0
      },
      "text/plain": [
       "Validation: 0it [00:00, ?it/s]"
      ]
     },
     "metadata": {},
     "output_type": "display_data"
    },
    {
     "data": {
      "application/vnd.jupyter.widget-view+json": {
       "model_id": "",
       "version_major": 2,
       "version_minor": 0
      },
      "text/plain": [
       "Validation: 0it [00:00, ?it/s]"
      ]
     },
     "metadata": {},
     "output_type": "display_data"
    },
    {
     "data": {
      "application/vnd.jupyter.widget-view+json": {
       "model_id": "",
       "version_major": 2,
       "version_minor": 0
      },
      "text/plain": [
       "Validation: 0it [00:00, ?it/s]"
      ]
     },
     "metadata": {},
     "output_type": "display_data"
    },
    {
     "data": {
      "application/vnd.jupyter.widget-view+json": {
       "model_id": "",
       "version_major": 2,
       "version_minor": 0
      },
      "text/plain": [
       "Validation: 0it [00:00, ?it/s]"
      ]
     },
     "metadata": {},
     "output_type": "display_data"
    },
    {
     "data": {
      "application/vnd.jupyter.widget-view+json": {
       "model_id": "",
       "version_major": 2,
       "version_minor": 0
      },
      "text/plain": [
       "Validation: 0it [00:00, ?it/s]"
      ]
     },
     "metadata": {},
     "output_type": "display_data"
    },
    {
     "data": {
      "application/vnd.jupyter.widget-view+json": {
       "model_id": "",
       "version_major": 2,
       "version_minor": 0
      },
      "text/plain": [
       "Validation: 0it [00:00, ?it/s]"
      ]
     },
     "metadata": {},
     "output_type": "display_data"
    },
    {
     "data": {
      "application/vnd.jupyter.widget-view+json": {
       "model_id": "",
       "version_major": 2,
       "version_minor": 0
      },
      "text/plain": [
       "Validation: 0it [00:00, ?it/s]"
      ]
     },
     "metadata": {},
     "output_type": "display_data"
    },
    {
     "data": {
      "application/vnd.jupyter.widget-view+json": {
       "model_id": "",
       "version_major": 2,
       "version_minor": 0
      },
      "text/plain": [
       "Validation: 0it [00:00, ?it/s]"
      ]
     },
     "metadata": {},
     "output_type": "display_data"
    },
    {
     "data": {
      "application/vnd.jupyter.widget-view+json": {
       "model_id": "",
       "version_major": 2,
       "version_minor": 0
      },
      "text/plain": [
       "Validation: 0it [00:00, ?it/s]"
      ]
     },
     "metadata": {},
     "output_type": "display_data"
    },
    {
     "data": {
      "application/vnd.jupyter.widget-view+json": {
       "model_id": "",
       "version_major": 2,
       "version_minor": 0
      },
      "text/plain": [
       "Validation: 0it [00:00, ?it/s]"
      ]
     },
     "metadata": {},
     "output_type": "display_data"
    },
    {
     "data": {
      "application/vnd.jupyter.widget-view+json": {
       "model_id": "",
       "version_major": 2,
       "version_minor": 0
      },
      "text/plain": [
       "Validation: 0it [00:00, ?it/s]"
      ]
     },
     "metadata": {},
     "output_type": "display_data"
    },
    {
     "data": {
      "application/vnd.jupyter.widget-view+json": {
       "model_id": "",
       "version_major": 2,
       "version_minor": 0
      },
      "text/plain": [
       "Validation: 0it [00:00, ?it/s]"
      ]
     },
     "metadata": {},
     "output_type": "display_data"
    },
    {
     "data": {
      "application/vnd.jupyter.widget-view+json": {
       "model_id": "",
       "version_major": 2,
       "version_minor": 0
      },
      "text/plain": [
       "Validation: 0it [00:00, ?it/s]"
      ]
     },
     "metadata": {},
     "output_type": "display_data"
    }
   ],
   "source": [
    "import training\n",
    "\n",
    "trainer = training.trainTFT(CONFIG)\n",
    "models = trainer.train_model(train_pydata, train_pyloader, valid_pyloader)"
   ]
  },
  {
   "cell_type": "markdown",
   "id": "12a222aa-6dbc-42bc-a557-763781f4724c",
   "metadata": {},
   "source": [
    "# 6 Agent\n",
    "The agent module can be used to apply a TFT trained for one advertiser to unseen data. The module provides functions to output the raw predictions, prediction vs actuals scores, feature importances or a prediction visualization."
   ]
  },
  {
   "cell_type": "code",
   "execution_count": 9,
   "id": "cfc9dbd8-2e13-42e5-8cf4-9f10a79e8b6b",
   "metadata": {},
   "outputs": [],
   "source": [
    "import agent\n",
    "\n",
    "adv_i = 0\n",
    "\n",
    "ag = agent.agentTFT(CONFIG)\n",
    "ag.predict(\n",
    "    data=adv_holdout[adv_i],\n",
    "    prev_data=adv_data[adv_i],\n",
    "    model=models[adv_i],\n",
    "    horizon=60\n",
    ")"
   ]
  },
  {
   "cell_type": "markdown",
   "id": "152b6c0f-406c-45c0-b971-e9d48481c4b9",
   "metadata": {},
   "source": [
    "**6.1 Get plain prediction values**"
   ]
  },
  {
   "cell_type": "code",
   "execution_count": 10,
   "id": "9b68317c-7ae1-499b-8a53-483e60e7ad8e",
   "metadata": {
    "tags": []
   },
   "outputs": [
    {
     "data": {
      "text/plain": [
       "1000    4.826531\n",
       "1001    4.212611\n",
       "1002    3.469947\n",
       "1003    3.152533\n",
       "1004    2.965324\n",
       "1005    2.888616\n",
       "1006    3.404832\n",
       "1007    5.812948\n",
       "1008    5.130691\n",
       "1009    4.065784\n",
       "Name: pred, dtype: float32"
      ]
     },
     "execution_count": 10,
     "metadata": {},
     "output_type": "execute_result"
    }
   ],
   "source": [
    "ag.prediction.head(10)"
   ]
  },
  {
   "cell_type": "markdown",
   "id": "1004debd-e00f-40ea-b0a9-4380ba873650",
   "metadata": {},
   "source": [
    "**6.2 Get prediction scores**"
   ]
  },
  {
   "cell_type": "code",
   "execution_count": 11,
   "id": "ed29797d-83b9-47b2-9cb2-ab65246f06b9",
   "metadata": {
    "tags": []
   },
   "outputs": [
    {
     "name": "stdout",
     "output_type": "stream",
     "text": [
      "Mean absolute error: 1.1813188974625726\n",
      "Mean absolute percentage error: 0.22804505365025712\n",
      "Symmetric mean absolute percentage error: 0.2349429851216001\n"
     ]
    }
   ],
   "source": [
    "print('Mean absolute error:', ag.mae)\n",
    "print('Mean absolute percentage error:', ag.mape)\n",
    "print('Symmetric mean absolute percentage error:', ag.smape)"
   ]
  },
  {
   "cell_type": "markdown",
   "id": "3a266d10-99c6-414b-af1b-3a1ef82953c5",
   "metadata": {},
   "source": [
    "**6.3 Get feature importances**"
   ]
  },
  {
   "cell_type": "code",
   "execution_count": 12,
   "id": "58d20c6f-cf42-44a3-abb3-9b8e64898a19",
   "metadata": {
    "tags": []
   },
   "outputs": [
    {
     "data": {
      "text/plain": [
       "tensor([0.0146, 0.0115, 0.0113, 0.0094, 0.0087, 0.0090, 0.0141, 0.0129, 0.0100,\n",
       "        0.0094])"
      ]
     },
     "execution_count": 12,
     "metadata": {},
     "output_type": "execute_result"
    }
   ],
   "source": [
    "ag.feature_importance['attention'][:10] # example printing the attention to first\n",
    "                                        # 10 encoder steps. Several more attributes\n",
    "                                        # are included in .feature_importance"
   ]
  },
  {
   "cell_type": "markdown",
   "id": "d567faa6-7d5a-4dea-ae29-762320ed6ee7",
   "metadata": {},
   "source": [
    "**6.4 Get visualization**"
   ]
  },
  {
   "cell_type": "code",
   "execution_count": 13,
   "id": "5ff1c821-11e7-4e33-ad83-194a83969f7a",
   "metadata": {},
   "outputs": [
    {
     "data": {
      "image/png": "[encoded data removed]",
      "text/plain": [
       "<Figure size 1584x504 with 1 Axes>"
      ]
     },
     "metadata": {
      "needs_background": "light"
     },
     "output_type": "display_data"
    }
   ],
   "source": [
    "ag.pred_viz()"
   ]
  },
  {
   "cell_type": "code",
   "execution_count": null,
   "id": "41b42e0a-292b-46f4-9e65-7ac5accd50da",
   "metadata": {},
   "outputs": [],
   "source": []
  }
 ],
 "metadata": {
  "environment": {
   "kernel": "python3",
   "name": "common-cu110.m91",
   "type": "gcloud",
   "uri": "gcr.io/deeplearning-platform-release/base-cu110:m91"
  },
  "kernelspec": {
   "display_name": "Python 3",
   "language": "python",
   "name": "python3"
  },
  "language_info": {
   "codemirror_mode": {
    "name": "ipython",
    "version": 3
   },
   "file_extension": ".py",
   "mimetype": "text/x-python",
   "name": "python",
   "nbconvert_exporter": "python",
   "pygments_lexer": "ipython3",
   "version": "3.7.12"
  }
 },
 "nbformat": 4,
 "nbformat_minor": 5
}
